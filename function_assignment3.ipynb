{
 "cells": [
  {
   "cell_type": "code",
   "execution_count": 1,
   "id": "73326ffa-9d7a-4614-baeb-a0f600d70e76",
   "metadata": {},
   "outputs": [],
   "source": [
    "#1. What is the difference between a function and a method in Python?"
   ]
  },
  {
   "cell_type": "code",
   "execution_count": 2,
   "id": "df1e02bf-4876-4dfa-8574-b37150e6177a",
   "metadata": {},
   "outputs": [],
   "source": [
    "#In Python, methods and functions have similar purposes but differ in important ways.\n",
    "#Functions are independent blocks of code that can be called from anywhere,\n",
    "#while methods are tied to objects or classes and need an object or class instance \n",
    "#to be invoked"
   ]
  },
  {
   "cell_type": "code",
   "execution_count": 6,
   "id": "479ef8f0-10fa-459a-8f00-21be655a00a4",
   "metadata": {},
   "outputs": [],
   "source": [
    "#2. . Explain the concept of function arguments and parameters in Python.\n",
    "\n",
    "#Arguments\n",
    "#These are the values that are passed to the function when it is called.\n",
    "#Arguments can be any scope, including variables that exist outside the function or literals.\n",
    "#Arguments can be mutable or immutable depending on their data type. \n",
    "\n",
    "#Parameters\n",
    "#These are variables that appear in the function definition, inside the parentheses.\n",
    "#They define the function's signature, including the number and type of inputs it can accept.\n",
    "#Parameters are local to the function,and their values can change as different arguments are passed to the function.\n"
   ]
  },
  {
   "cell_type": "code",
   "execution_count": 7,
   "id": "cb226a01-7fac-49fa-942b-e00308391255",
   "metadata": {},
   "outputs": [],
   "source": [
    "#3. What are the different ways to define and call a function in Python?\n",
    "\n",
    "#The four steps to defining a function in Python are the following: Use the keyword def\n",
    "#to declare the function and follow this up with the function name.\n",
    "#Add parameters to the function: they should be within the parentheses of the function.\n",
    "#End your line with a colon.Add statements that the functions should execute."
   ]
  },
  {
   "cell_type": "code",
   "execution_count": 8,
   "id": "fdde2aba-63b2-4fe0-abe4-783fed29402b",
   "metadata": {},
   "outputs": [],
   "source": [
    "#4. What is the purpose of the `return` statement in a Python function?\n",
    "\n",
    "#The python return statement is used to return the output from a function.\n",
    "#We learned that we can also return a function from another function.\n",
    "#Also, expressions are evaluated and then the result is returned from the function."
   ]
  },
  {
   "cell_type": "code",
   "execution_count": 9,
   "id": "6bdb49c9-ae3d-4b18-b803-bd7cd5b883c6",
   "metadata": {},
   "outputs": [],
   "source": [
    "#5. What are iterators in Python and how do they differ from iterables?\n",
    "#An Iterable is basically an object that any user can iterate over.\n",
    "#An Iterator is also an object that helps a user in iterating over\n",
    "#another object (that is iterable). We can generate an iterator when we pass\n",
    "#the object to the iter() method.We use the __next__() method for iterating."
   ]
  },
  {
   "cell_type": "code",
   "execution_count": 10,
   "id": "fb3e8e4d-c18a-49f6-b28d-ebe7e4dccc7e",
   "metadata": {},
   "outputs": [],
   "source": [
    "#6. Explain the concept of generators in Python and how they are defined.\n",
    "\n",
    "#A Python generator function allows you to declare a function that behaves like an\n",
    "#iterator, providing a faster and easier way to create iterators. \n",
    "#They can be used on an abstract container of data to turn it into an iterable object like lists, dictionaries and strings."
   ]
  },
  {
   "cell_type": "code",
   "execution_count": 11,
   "id": "435e7710-f4d2-40b7-bf17-4624cf80a908",
   "metadata": {},
   "outputs": [],
   "source": [
    "#7. What are the advantages of using generators over regular functions?\n",
    "\n",
    "#Generators differ from standard functions in that they allow you to iterate through\n",
    "#a sequence of values over time, instead of computing and returning a single result. \n",
    "#Standard Functions: Compute a value and return it once. They use the return statement."
   ]
  },
  {
   "cell_type": "code",
   "execution_count": 12,
   "id": "6d8ba4c9-28b1-4393-8773-626fee852a46",
   "metadata": {},
   "outputs": [],
   "source": [
    "#8. What is a lambda function in Python and when is it typically used?\n",
    "\n",
    "#They're commonly referred to as anonymous functions. \n",
    "#Lambda functions are efficient whenever you want to create a function that will only\n",
    "#contain simple expressions – that is, expressions that are usually\n",
    "#a single line of a statement.They're also useful when you want to use the function once."
   ]
  },
  {
   "cell_type": "code",
   "execution_count": 13,
   "id": "97e750aa-ffec-4c27-b8a7-f8a1726b2bfc",
   "metadata": {},
   "outputs": [],
   "source": [
    "#9. Explain the purpose and usage of the `map()` function in Python.\n",
    "#Map in Python is a function that works as an iterator to return a result after\n",
    "#applying a function to every item of an iterable (tuple, lists, etc.).\n",
    "#It is used when you want to apply a single transformation function to all the iterable elements."
   ]
  },
  {
   "cell_type": "code",
   "execution_count": 14,
   "id": "bc2f034f-351d-41a0-afac-8cbe3d9e9786",
   "metadata": {},
   "outputs": [],
   "source": [
    "#10. What is the difference between `map()`, `reduce()`, and `filter()` functions in Python?\n",
    "\n",
    "#'Map' applies a given function to each item of an iterable (like a list or set) and\n",
    "#returns a list of the results. 'Filter' constructs a list from elements of an iterable\n",
    "#for which a function returns true. 'Reduce' applies a rolling computation to sequential\n",
    "#pairs of values in a list and returns a single result.\n"
   ]
  },
  {
   "cell_type": "code",
   "execution_count": 15,
   "id": "3f228aca-39a9-4601-bbe8-ab6c4b2def5b",
   "metadata": {},
   "outputs": [],
   "source": [
    "# 11. Using pen & Paper write the internal mechanism for sum operation using  reduce function on this given\n",
    "#list:[47,11,42,13]; \n",
    "\n",
    "#To perform a sum operation using the `reduce` function on the list `[47, 11, 42, 13]`, we can break down the process step by step. \n",
    "    ### Step 1: Import the Required Module You need to import `reduce` from the `functools` module \n",
    "#    in Python: ```python from functools import reduce ``` ### Step 2: Define the Sum Function Define a simple function\n",
    "#that takes two arguments and returns their sum: ```python def add(x, y): return x + y ``` ### Step 3: Apply `reduce` Function \n",
    " #   The `reduce` function applies the `add` function cumulatively to the items of the list from left to right. Here’s how it works\n",
    "#with our list: 1. Start with the first two elements: `47` and `11`. 2. Apply the `add` function: - `add(47, 11)` → `58` 3.\n",
    "#Take the result and the next element `42`: - `add(58, 42)` → `100` 4. Finally, take the result and the \n",
    "#last element `13`: - `add(100, 13)` → `113` ### Internal Mechanism - **Initial list**: `[47, 11, 42, 13]` - **Step 1**: `add(47, 11)`\n",
    "#→ Result: `58` - **Step 2**: `add(58, 42)` → Result: `100` - **Step 3**: `add(100, 13)` → Result: `113`\n",
    "#### Final Result The final result of the summation using `reduce` is `113`. ### Full Code Example Here’s the complete code for reference:\n",
    "#```python from functools import reduce def add(x, y): return x + y result = reduce(add, [47, 11, 42, 13]) print(result) \n",
    "# Output: 113 ``` That's how the `reduce` function works internally for summing elements in the given list!"
   ]
  },
  {
   "cell_type": "code",
   "execution_count": 16,
   "id": "633fa80f-0f54-41f1-94de-d994066aab00",
   "metadata": {},
   "outputs": [],
   "source": [
    "#Practical questions.\n",
    "#1. Write a Python function that takes a list of numbers as input and returns the sum of all even numbers inthe list."
   ]
  },
  {
   "cell_type": "code",
   "execution_count": 17,
   "id": "f66dd8df-35e9-4722-8380-d2dbce01fc86",
   "metadata": {},
   "outputs": [
    {
     "name": "stdin",
     "output_type": "stream",
     "text": [
      "Enter the elements of the list:  12\n"
     ]
    },
    {
     "name": "stdout",
     "output_type": "stream",
     "text": [
      "sum of even numbers: 12\n"
     ]
    }
   ],
   "source": [
    "\n",
    "user_input = input(\"Enter the elements of the list: \")\n",
    "numbers = list(map(int, user_input.split()))\n",
    "\n",
    "\n",
    "result = sum(num for num in numbers if num % 2 == 0)\n",
    "\n",
    "print(\"sum of even numbers:\", result)\n"
   ]
  },
  {
   "cell_type": "code",
   "execution_count": 18,
   "id": "cbd793f0-e4ff-48c1-85dc-61b375b825e5",
   "metadata": {},
   "outputs": [],
   "source": [
    "#2. Create a Python function that accepts a string and returns the reverse of that string."
   ]
  },
  {
   "cell_type": "code",
   "execution_count": 19,
   "id": "57d29f77-4d9a-4eeb-9500-74b32a81280c",
   "metadata": {},
   "outputs": [
    {
     "name": "stdin",
     "output_type": "stream",
     "text": [
      "Enter a string:  Rahul\n"
     ]
    },
    {
     "name": "stdout",
     "output_type": "stream",
     "text": [
      "Reversed string: luhaR\n"
     ]
    }
   ],
   "source": [
    "def reverse_string(input_string):\n",
    "    return input_string[::-1]\n",
    "\n",
    "user_input = input(\"Enter a string: \")\n",
    "result = reverse_string(user_input)\n",
    "print(\"Reversed string:\", result)\n"
   ]
  },
  {
   "cell_type": "code",
   "execution_count": 20,
   "id": "6a56e91f-0cee-4283-8268-5c57d7f80085",
   "metadata": {},
   "outputs": [],
   "source": [
    "#3. Implement a Python function that takes a list of integers and returns a new list containing \n",
    "#the squares of each number."
   ]
  },
  {
   "cell_type": "code",
   "execution_count": 37,
   "id": "f510fe57-e6b7-4006-9019-05354cb85252",
   "metadata": {},
   "outputs": [
    {
     "name": "stdin",
     "output_type": "stream",
     "text": [
      "Enter the elements of the list:  5\n"
     ]
    },
    {
     "name": "stdout",
     "output_type": "stream",
     "text": [
      "Squared list: [25]\n"
     ]
    }
   ],
   "source": [
    "def square(num):\n",
    "    sq_lst = (n**2 for n in num)\n",
    "    return sq_lst\n",
    "\n",
    "lst= [int(x) for x in input(\"Enter the elements of the list: \").split()]\n",
    "\n",
    "print(\"Squared list:\", list(square(lst)))\n",
    "\n",
    "\n"
   ]
  },
  {
   "cell_type": "code",
   "execution_count": null,
   "id": "dec2d1a0-29d7-488a-9d1f-2f03f46cc553",
   "metadata": {},
   "outputs": [],
   "source": []
  },
  {
   "cell_type": "code",
   "execution_count": 38,
   "id": "0c9a7bda-de97-411b-8a46-eda7b7567b66",
   "metadata": {},
   "outputs": [],
   "source": [
    "#4 . Write a Python function that checks if a given number is prime or not from 1 to 200."
   ]
  },
  {
   "cell_type": "code",
   "execution_count": 39,
   "id": "5321dba5-f254-456c-bcaf-10d1a79678b7",
   "metadata": {},
   "outputs": [
    {
     "name": "stdout",
     "output_type": "stream",
     "text": [
      "Prime numbers:  False\n"
     ]
    }
   ],
   "source": [
    "def isprime(n):\n",
    "    if n <= 1:\n",
    "        return False\n",
    "    for i in range(2, n // 2):\n",
    "        if n % i == 0:\n",
    "            return False\n",
    "    return True\n",
    "    \n",
    "n = 200\n",
    "r = isprime(n)\n",
    "print(\"Prime numbers: \", r)\n",
    "    \n"
   ]
  },
  {
   "cell_type": "code",
   "execution_count": 40,
   "id": "64d2e469-8701-4778-b09a-07dde8901786",
   "metadata": {},
   "outputs": [],
   "source": [
    "#5. Create an iterator class in Python that generates the Fibonacci sequence up to a specified number ofterms"
   ]
  },
  {
   "cell_type": "code",
   "execution_count": 42,
   "id": "92f33ce9-4bc8-4cd9-8c66-13c7480618a8",
   "metadata": {},
   "outputs": [
    {
     "name": "stdin",
     "output_type": "stream",
     "text": [
      "Enter the number of terms for Fibonacci series:  10\n"
     ]
    },
    {
     "name": "stdout",
     "output_type": "stream",
     "text": [
      "Fibonacci series: [0, 1, 1, 2, 3, 5, 8, 13, 21, 34]\n"
     ]
    }
   ],
   "source": [
    "class Fibonacci:\n",
    "    def __init__(self, terms):\n",
    "        self.terms = terms\n",
    "\n",
    "    def generate_series(self):\n",
    "        series = []\n",
    "        a, b = 0, 1\n",
    "        for _ in range(self.terms):\n",
    "            series.append(a)\n",
    "            a, b = b, a + b\n",
    "        return series\n",
    "\n",
    "\n",
    "num_terms = int(input(\"Enter the number of terms for Fibonacci series: \"))\n",
    "fibonacci_series = Fibonacci(num_terms)\n",
    "print(\"Fibonacci series:\", fibonacci_series.generate_series())\n"
   ]
  },
  {
   "cell_type": "code",
   "execution_count": 43,
   "id": "0643b64f-9aac-4b46-9ef7-303da36e295f",
   "metadata": {},
   "outputs": [],
   "source": [
    "#6. Write a generator function in Python that yields the powers of 2 up to a given exponent."
   ]
  },
  {
   "cell_type": "code",
   "execution_count": 46,
   "id": "34eae575-29e9-473c-b711-25072ba0cd2a",
   "metadata": {},
   "outputs": [
    {
     "name": "stdin",
     "output_type": "stream",
     "text": [
      "Enter the number of terms for powers of 2:  8\n"
     ]
    },
    {
     "name": "stdout",
     "output_type": "stream",
     "text": [
      "1\n",
      "2\n",
      "4\n",
      "8\n",
      "16\n",
      "32\n",
      "64\n",
      "128\n"
     ]
    }
   ],
   "source": [
    "def powers_of_two(terms):\n",
    "    for i in range(terms):\n",
    "        yield 2 ** i\n",
    "\n",
    "# Example usage\n",
    "num_terms = int(input(\"Enter the number of terms for powers of 2: \"))\n",
    "for power in powers_of_two(num_terms):\n",
    "    print(power)\n"
   ]
  },
  {
   "cell_type": "code",
   "execution_count": 47,
   "id": "a575a522-f1dc-42c0-a638-8be605137130",
   "metadata": {},
   "outputs": [],
   "source": [
    "#7. Implement a generator function that reads a file line by line and yields each line as a string."
   ]
  },
  {
   "cell_type": "code",
   "execution_count": null,
   "id": "b19e912a-9489-4d5e-9946-6eeb1c2b09bb",
   "metadata": {},
   "outputs": [],
   "source": [
    "def read_file(file_path):\n",
    "    with open(file_path, 'r') as file:\n",
    "        for line in file:\n",
    "            yield line.strip()\n",
    "\n",
    "file_path = \"bhai kisi fiole lo utha and path copy krdaal de \"\n",
    "for line in read_file(file_path):\n",
    "    print(line)"
   ]
  },
  {
   "cell_type": "code",
   "execution_count": 49,
   "id": "12cf3dc5-6c67-4b5b-8d9f-d7349d2bb05c",
   "metadata": {},
   "outputs": [],
   "source": [
    "#8  Use a lambda function in Python to sort a list of tuples based on the second element of each tuple."
   ]
  },
  {
   "cell_type": "code",
   "execution_count": 50,
   "id": "0cb4bba2-3b82-4ab0-8d9c-8bba7eecc45d",
   "metadata": {},
   "outputs": [
    {
     "name": "stdout",
     "output_type": "stream",
     "text": [
      "Original Price: 50, Sale Price: 45.0\n",
      "Original Price: 100, Sale Price: 80.0\n"
     ]
    }
   ],
   "source": [
    "items = [\n",
    "    (100, 20), \n",
    "    (50, 10),\n",
    "]\n",
    "\n",
    "calculate_sale_price = lambda item: (item[0], item[1], item[0] * (1 - item[1] / 100))\n",
    "\n",
    "items_with_sale_price = [calculate_sale_price(item) for item in items]\n",
    "\n",
    "sorted_items = sorted(items_with_sale_price, key=lambda x: x[2])\n",
    "\n",
    "for item in sorted_items:\n",
    "    print(f\"Original Price: {item[0]}, Sale Price: {item[2]}\")\n"
   ]
  },
  {
   "cell_type": "code",
   "execution_count": null,
   "id": "ecae3886-2f33-41cc-8d4e-0afce63ed495",
   "metadata": {},
   "outputs": [],
   "source": []
  },
  {
   "cell_type": "code",
   "execution_count": null,
   "id": "be323a31-3511-439c-b780-8b866a57632e",
   "metadata": {},
   "outputs": [],
   "source": []
  },
  {
   "cell_type": "code",
   "execution_count": null,
   "id": "7eff5955-e714-44f8-b2c5-c6c78dcc2c52",
   "metadata": {},
   "outputs": [],
   "source": []
  }
 ],
 "metadata": {
  "kernelspec": {
   "display_name": "Python 3 (ipykernel)",
   "language": "python",
   "name": "python3"
  },
  "language_info": {
   "codemirror_mode": {
    "name": "ipython",
    "version": 3
   },
   "file_extension": ".py",
   "mimetype": "text/x-python",
   "name": "python",
   "nbconvert_exporter": "python",
   "pygments_lexer": "ipython3",
   "version": "3.12.6"
  }
 },
 "nbformat": 4,
 "nbformat_minor": 5
}
